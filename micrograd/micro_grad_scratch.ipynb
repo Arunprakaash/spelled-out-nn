{
 "cells": [
  {
   "cell_type": "code",
   "execution_count": 1,
   "id": "b55299de-3d4b-4f82-a7cb-a3b3c9a10545",
   "metadata": {},
   "outputs": [],
   "source": [
    "import matplotlib.pyplot as plt\n",
    "import numpy as np\n",
    "import math"
   ]
  },
  {
   "cell_type": "code",
   "execution_count": 2,
   "id": "aa597656-f02e-4530-a1a0-e853bad2acdc",
   "metadata": {
    "ExecuteTime": {
     "end_time": "2024-08-04T06:15:14.211844Z",
     "start_time": "2024-08-04T06:15:14.190903Z"
    }
   },
   "outputs": [],
   "source": [
    "# function\n",
    "def f(x):\n",
    "    return x**2 + 1"
   ]
  },
  {
   "cell_type": "code",
   "execution_count": 3,
   "id": "e5a9ef773fc37793",
   "metadata": {
    "ExecuteTime": {
     "end_time": "2024-08-04T06:15:32.995345Z",
     "start_time": "2024-08-04T06:15:32.979284Z"
    }
   },
   "outputs": [
    {
     "data": {
      "text/plain": [
       "5"
      ]
     },
     "execution_count": 3,
     "metadata": {},
     "output_type": "execute_result"
    }
   ],
   "source": [
    "f(2)"
   ]
  },
  {
   "cell_type": "code",
   "execution_count": 4,
   "id": "fce6ccc73fa76781",
   "metadata": {
    "ExecuteTime": {
     "end_time": "2024-08-04T05:52:14.300364Z",
     "start_time": "2024-08-04T05:52:13.671565Z"
    }
   },
   "outputs": [
    {
     "data": {
      "text/plain": [
       "array([26.    , 23.5625, 21.25  , 19.0625, 17.    , 15.0625, 13.25  ,\n",
       "       11.5625, 10.    ,  8.5625,  7.25  ,  6.0625,  5.    ,  4.0625,\n",
       "        3.25  ,  2.5625,  2.    ,  1.5625,  1.25  ,  1.0625,  1.    ,\n",
       "        1.0625,  1.25  ,  1.5625,  2.    ,  2.5625,  3.25  ,  4.0625,\n",
       "        5.    ,  6.0625,  7.25  ,  8.5625, 10.    , 11.5625, 13.25  ,\n",
       "       15.0625, 17.    , 19.0625, 21.25  , 23.5625])"
      ]
     },
     "execution_count": 4,
     "metadata": {},
     "output_type": "execute_result"
    }
   ],
   "source": [
    "x_vals = np.arange(-5, 5, 0.25)\n",
    "y_vals = f(x_vals)\n",
    "y_vals"
   ]
  },
  {
   "cell_type": "code",
   "execution_count": 5,
   "id": "21f1c16430402f50",
   "metadata": {
    "ExecuteTime": {
     "end_time": "2024-08-04T05:52:52.217617Z",
     "start_time": "2024-08-04T05:52:51.560380Z"
    }
   },
   "outputs": [
    {
     "data": {
      "text/plain": [
       "[<matplotlib.lines.Line2D at 0x7fa0d062e5d0>]"
      ]
     },
     "execution_count": 5,
     "metadata": {},
     "output_type": "execute_result"
    },
    {
     "data": {
      "image/png": "[encoded data removed]",
      "text/plain": [
       "<Figure size 640x480 with 1 Axes>"
      ]
     },
     "metadata": {},
     "output_type": "display_data"
    }
   ],
   "source": [
    "plt.plot(x_vals, y_vals)"
   ]
  },
  {
   "cell_type": "markdown",
   "id": "e6aac4a1-4d6c-48cb-bead-5109a5a17d62",
   "metadata": {},
   "source": [
    "### Understanding Derivatives\n",
    "\n",
    "#### Basic Definition of Derivatives\n",
    "\n",
    "A derivative measures how a function changes as its input changes. Essentially, it's the slope of the function at any given point.\n",
    "\n",
    "#### Numerical Approximation\n",
    "\n",
    "In the notebook, we see a simple way to approximate a derivative numerically:\n",
    "\n",
    "```python\n",
    "h = 0.000001\n",
    "x = 2/3\n",
    "(f(x + h) - f(x)) / h\n",
    "```\n",
    "\n",
    "This is known as the finite difference method. It calculates the slope of a tiny line segment on the function's curve.\n",
    "\n",
    "#### Interpretation of Derivatives\n",
    "\n",
    "1. **Rate of Change**: The derivative tells us how fast a function is changing at any point.\n",
    "2. **Tangent Line**: Geometrically, the derivative gives the slope of the tangent line to the function's graph at a point.\n",
    "\n",
    "#### Derivatives in Machine Learning\n",
    "\n",
    "In the context of neural networks and machine learning:\n",
    "\n",
    "1. **Gradients**: Derivatives generalize to gradients in multiple dimensions. Each weight in a neural network has a gradient that indicates how changing that weight would affect the output.\n",
    "\n",
    "2. **Optimization**: During training, we use these gradients to adjust the weights in a direction that reduces the error (loss) of the network's predictions.\n"
   ]
  },
  {
   "cell_type": "code",
   "execution_count": 6,
   "id": "76d932b6-4934-424b-91b3-2e4927601ceb",
   "metadata": {},
   "outputs": [
    {
     "data": {
      "text/plain": [
       "1.000088900582341e-06"
      ]
     },
     "execution_count": 6,
     "metadata": {},
     "output_type": "execute_result"
    }
   ],
   "source": [
    "h = 0.000001\n",
    "x = 0\n",
    "derivative = (f(x + h) - f(x)) / h\n",
    "derivative"
   ]
  },
  {
   "cell_type": "code",
   "execution_count": 7,
   "id": "aa4df8c7-4e0f-4340-aac3-627b9af6ddd8",
   "metadata": {},
   "outputs": [],
   "source": [
    "# multiple scalar.\n",
    "def complex_function(a, b, c):\n",
    "    return a*b + c"
   ]
  },
  {
   "cell_type": "code",
   "execution_count": 8,
   "id": "a1e69f66-6f1f-4afc-97cc-cb49c5d11c32",
   "metadata": {},
   "outputs": [],
   "source": [
    "a, b, c = 2.0, -3.0, 10.0\n",
    "h = 0.0001"
   ]
  },
  {
   "cell_type": "code",
   "execution_count": 9,
   "id": "d1e5899b-a616-4e9c-9b59-67adfe8b19f9",
   "metadata": {},
   "outputs": [
    {
     "data": {
      "text/plain": [
       "4.0"
      ]
     },
     "execution_count": 9,
     "metadata": {},
     "output_type": "execute_result"
    }
   ],
   "source": [
    "d = complex_function(a, b, c)\n",
    "d"
   ]
  },
  {
   "cell_type": "code",
   "execution_count": 10,
   "id": "396b8629-8880-4e55-8c96-19490e843bd7",
   "metadata": {},
   "outputs": [
    {
     "data": {
      "text/plain": [
       "-3.000000000010772"
      ]
     },
     "execution_count": 10,
     "metadata": {},
     "output_type": "execute_result"
    }
   ],
   "source": [
    "# slope of this complex_function w.r.t a \n",
    "# d(f(x)) / da\n",
    "(complex_function(a+h, b, c) - complex_function(a, b, c)) / h"
   ]
  },
  {
   "cell_type": "markdown",
   "id": "5f23a1ec-f09e-4b55-9363-480f86f4e0ed",
   "metadata": {},
   "source": [
    "#### custom data structure"
   ]
  },
  {
   "cell_type": "code",
   "execution_count": 11,
   "id": "da357b44-c8c9-4060-b327-d9cc05bf78a3",
   "metadata": {},
   "outputs": [],
   "source": [
    "from data import Data\n",
    "from draw_graph import draw_dot"
   ]
  },
  {
   "cell_type": "code",
   "execution_count": 12,
   "id": "912f2896-29ce-427c-b71b-1db82e8a9564",
   "metadata": {},
   "outputs": [],
   "source": [
    "a = Data(value = 2.0, label = 'a')\n",
    "b = Data(value = -3.0, label = 'b')\n",
    "c = Data(value = 10.0, label = 'c')"
   ]
  },
  {
   "cell_type": "code",
   "execution_count": 13,
   "id": "e9d57f0d-d0eb-4dda-9247-36f9482d7162",
   "metadata": {},
   "outputs": [
    {
     "data": {
      "text/plain": [
       "Data(value=4.0)"
      ]
     },
     "execution_count": 13,
     "metadata": {},
     "output_type": "execute_result"
    }
   ],
   "source": [
    "d = complex_function(a, b, c)\n",
    "d"
   ]
  },
  {
   "cell_type": "code",
   "execution_count": 15,
   "id": "90f70eba-3788-4a0f-bdf1-31e4f8b13863",
   "metadata": {},
   "outputs": [
    {
     "data": {
      "image/svg+xml": [
       "<?xml version=\"1.0\" encoding=\"UTF-8\" standalone=\"no\"?>\n",
       "<!DOCTYPE svg PUBLIC \"-//W3C//DTD SVG 1.1//EN\"\n",
       " \"http://www.w3.org/Graphics/SVG/1.1/DTD/svg11.dtd\">\n",
       "<!-- Generated by graphviz version 2.43.0 (0)\n",
       " -->\n",
       "<!-- Title: %3 Pages: 1 -->\n",
       "<svg width=\"963pt\" height=\"128pt\"\n",
       " viewBox=\"0.00 0.00 963.00 128.00\" xmlns=\"http://www.w3.org/2000/svg\" xmlns:xlink=\"http://www.w3.org/1999/xlink\">\n",
       "<g id=\"graph0\" class=\"graph\" transform=\"scale(1 1) rotate(0) translate(4 124)\">\n",
       "<title>%3</title>\n",
       "<polygon fill=\"white\" stroke=\"transparent\" points=\"-4,4 -4,-124 959,-124 959,4 -4,4\"/>\n",
       "<!-- 140327571863056 -->\n",
       "<g id=\"node1\" class=\"node\">\n",
       "<title>140327571863056</title>\n",
       "<polygon fill=\"none\" stroke=\"black\" points=\"3,-83.5 3,-119.5 234,-119.5 234,-83.5 3,-83.5\"/>\n",
       "<text text-anchor=\"middle\" x=\"15.5\" y=\"-97.8\" font-family=\"Times,serif\" font-size=\"14.00\">a</text>\n",
       "<polyline fill=\"none\" stroke=\"black\" points=\"28,-83.5 28,-119.5 \"/>\n",
       "<text text-anchor=\"middle\" x=\"79\" y=\"-97.8\" font-family=\"Times,serif\" font-size=\"14.00\">data 2.0000</text>\n",
       "<polyline fill=\"none\" stroke=\"black\" points=\"130,-83.5 130,-119.5 \"/>\n",
       "<text text-anchor=\"middle\" x=\"182\" y=\"-97.8\" font-family=\"Times,serif\" font-size=\"14.00\">grad 0.0000</text>\n",
       "</g>\n",
       "<!-- 140327572503376* -->\n",
       "<g id=\"node6\" class=\"node\">\n",
       "<title>140327572503376*</title>\n",
       "<ellipse fill=\"none\" stroke=\"black\" cx=\"300\" cy=\"-73.5\" rx=\"27\" ry=\"18\"/>\n",
       "<text text-anchor=\"middle\" x=\"300\" y=\"-69.8\" font-family=\"Times,serif\" font-size=\"14.00\">*</text>\n",
       "</g>\n",
       "<!-- 140327571863056&#45;&gt;140327572503376* -->\n",
       "<g id=\"edge3\" class=\"edge\">\n",
       "<title>140327571863056&#45;&gt;140327572503376*</title>\n",
       "<path fill=\"none\" stroke=\"black\" d=\"M234.2,-83.61C244.76,-81.96 254.83,-80.39 263.74,-79\"/>\n",
       "<polygon fill=\"black\" stroke=\"black\" points=\"264.3,-82.46 273.64,-77.46 263.22,-75.54 264.3,-82.46\"/>\n",
       "</g>\n",
       "<!-- 140327573304912 -->\n",
       "<g id=\"node2\" class=\"node\">\n",
       "<title>140327573304912</title>\n",
       "<polygon fill=\"none\" stroke=\"black\" points=\"363,-0.5 363,-36.5 602,-36.5 602,-0.5 363,-0.5\"/>\n",
       "<text text-anchor=\"middle\" x=\"375\" y=\"-14.8\" font-family=\"Times,serif\" font-size=\"14.00\">c</text>\n",
       "<polyline fill=\"none\" stroke=\"black\" points=\"387,-0.5 387,-36.5 \"/>\n",
       "<text text-anchor=\"middle\" x=\"442.5\" y=\"-14.8\" font-family=\"Times,serif\" font-size=\"14.00\">data 10.0000</text>\n",
       "<polyline fill=\"none\" stroke=\"black\" points=\"498,-0.5 498,-36.5 \"/>\n",
       "<text text-anchor=\"middle\" x=\"550\" y=\"-14.8\" font-family=\"Times,serif\" font-size=\"14.00\">grad 0.0000</text>\n",
       "</g>\n",
       "<!-- 140327573060880+ -->\n",
       "<g id=\"node4\" class=\"node\">\n",
       "<title>140327573060880+</title>\n",
       "<ellipse fill=\"none\" stroke=\"black\" cx=\"665\" cy=\"-45.5\" rx=\"27\" ry=\"18\"/>\n",
       "<text text-anchor=\"middle\" x=\"665\" y=\"-41.8\" font-family=\"Times,serif\" font-size=\"14.00\">+</text>\n",
       "</g>\n",
       "<!-- 140327573304912&#45;&gt;140327573060880+ -->\n",
       "<g id=\"edge5\" class=\"edge\">\n",
       "<title>140327573304912&#45;&gt;140327573060880+</title>\n",
       "<path fill=\"none\" stroke=\"black\" d=\"M602.13,-36.25C611.53,-37.65 620.47,-38.99 628.48,-40.19\"/>\n",
       "<polygon fill=\"black\" stroke=\"black\" points=\"628.03,-43.66 638.44,-41.68 629.07,-36.74 628.03,-43.66\"/>\n",
       "</g>\n",
       "<!-- 140327573060880 -->\n",
       "<g id=\"node3\" class=\"node\">\n",
       "<title>140327573060880</title>\n",
       "<polygon fill=\"none\" stroke=\"black\" points=\"728,-27.5 728,-63.5 955,-63.5 955,-27.5 728,-27.5\"/>\n",
       "<text text-anchor=\"middle\" x=\"738.5\" y=\"-41.8\" font-family=\"Times,serif\" font-size=\"14.00\"> </text>\n",
       "<polyline fill=\"none\" stroke=\"black\" points=\"749,-27.5 749,-63.5 \"/>\n",
       "<text text-anchor=\"middle\" x=\"800\" y=\"-41.8\" font-family=\"Times,serif\" font-size=\"14.00\">data 4.0000</text>\n",
       "<polyline fill=\"none\" stroke=\"black\" points=\"851,-27.5 851,-63.5 \"/>\n",
       "<text text-anchor=\"middle\" x=\"903\" y=\"-41.8\" font-family=\"Times,serif\" font-size=\"14.00\">grad 0.0000</text>\n",
       "</g>\n",
       "<!-- 140327573060880+&#45;&gt;140327573060880 -->\n",
       "<g id=\"edge1\" class=\"edge\">\n",
       "<title>140327573060880+&#45;&gt;140327573060880</title>\n",
       "<path fill=\"none\" stroke=\"black\" d=\"M692.12,-45.5C699.67,-45.5 708.45,-45.5 717.9,-45.5\"/>\n",
       "<polygon fill=\"black\" stroke=\"black\" points=\"717.95,-49 727.95,-45.5 717.95,-42 717.95,-49\"/>\n",
       "</g>\n",
       "<!-- 140327572503376 -->\n",
       "<g id=\"node5\" class=\"node\">\n",
       "<title>140327572503376</title>\n",
       "<polygon fill=\"none\" stroke=\"black\" points=\"366.5,-55.5 366.5,-91.5 598.5,-91.5 598.5,-55.5 366.5,-55.5\"/>\n",
       "<text text-anchor=\"middle\" x=\"377\" y=\"-69.8\" font-family=\"Times,serif\" font-size=\"14.00\"> </text>\n",
       "<polyline fill=\"none\" stroke=\"black\" points=\"387.5,-55.5 387.5,-91.5 \"/>\n",
       "<text text-anchor=\"middle\" x=\"441\" y=\"-69.8\" font-family=\"Times,serif\" font-size=\"14.00\">data &#45;6.0000</text>\n",
       "<polyline fill=\"none\" stroke=\"black\" points=\"494.5,-55.5 494.5,-91.5 \"/>\n",
       "<text text-anchor=\"middle\" x=\"546.5\" y=\"-69.8\" font-family=\"Times,serif\" font-size=\"14.00\">grad 0.0000</text>\n",
       "</g>\n",
       "<!-- 140327572503376&#45;&gt;140327573060880+ -->\n",
       "<g id=\"edge6\" class=\"edge\">\n",
       "<title>140327572503376&#45;&gt;140327573060880+</title>\n",
       "<path fill=\"none\" stroke=\"black\" d=\"M598.58,-55.65C609.24,-53.99 619.4,-52.42 628.4,-51.02\"/>\n",
       "<polygon fill=\"black\" stroke=\"black\" points=\"629.04,-54.46 638.39,-49.47 627.97,-47.55 629.04,-54.46\"/>\n",
       "</g>\n",
       "<!-- 140327572503376*&#45;&gt;140327572503376 -->\n",
       "<g id=\"edge2\" class=\"edge\">\n",
       "<title>140327572503376*&#45;&gt;140327572503376</title>\n",
       "<path fill=\"none\" stroke=\"black\" d=\"M327.25,-73.5C335.63,-73.5 345.53,-73.5 356.21,-73.5\"/>\n",
       "<polygon fill=\"black\" stroke=\"black\" points=\"356.21,-77 366.21,-73.5 356.21,-70 356.21,-77\"/>\n",
       "</g>\n",
       "<!-- 140327573713360 -->\n",
       "<g id=\"node7\" class=\"node\">\n",
       "<title>140327573713360</title>\n",
       "<polygon fill=\"none\" stroke=\"black\" points=\"0,-28.5 0,-64.5 237,-64.5 237,-28.5 0,-28.5\"/>\n",
       "<text text-anchor=\"middle\" x=\"13\" y=\"-42.8\" font-family=\"Times,serif\" font-size=\"14.00\">b</text>\n",
       "<polyline fill=\"none\" stroke=\"black\" points=\"26,-28.5 26,-64.5 \"/>\n",
       "<text text-anchor=\"middle\" x=\"79.5\" y=\"-42.8\" font-family=\"Times,serif\" font-size=\"14.00\">data &#45;3.0000</text>\n",
       "<polyline fill=\"none\" stroke=\"black\" points=\"133,-28.5 133,-64.5 \"/>\n",
       "<text text-anchor=\"middle\" x=\"185\" y=\"-42.8\" font-family=\"Times,serif\" font-size=\"14.00\">grad 0.0000</text>\n",
       "</g>\n",
       "<!-- 140327573713360&#45;&gt;140327572503376* -->\n",
       "<g id=\"edge4\" class=\"edge\">\n",
       "<title>140327573713360&#45;&gt;140327572503376*</title>\n",
       "<path fill=\"none\" stroke=\"black\" d=\"M237.23,-64.21C246.6,-65.62 255.52,-66.96 263.52,-68.16\"/>\n",
       "<polygon fill=\"black\" stroke=\"black\" points=\"263.06,-71.63 273.47,-69.66 264.1,-64.71 263.06,-71.63\"/>\n",
       "</g>\n",
       "</g>\n",
       "</svg>\n"
      ],
      "text/plain": [
       "<graphviz.graphs.Digraph at 0x7fa08f9d2710>"
      ]
     },
     "execution_count": 15,
     "metadata": {},
     "output_type": "execute_result"
    }
   ],
   "source": [
    "draw_dot(d)"
   ]
  },
  {
   "cell_type": "code",
   "execution_count": null,
   "id": "0a47dd4c-887b-4ddc-a902-0c29fbe13b9d",
   "metadata": {},
   "outputs": [],
   "source": []
  },
  {
   "cell_type": "code",
   "execution_count": null,
   "id": "e6573219-1308-43d1-8617-e88261a1fe80",
   "metadata": {},
   "outputs": [],
   "source": []
  }
 ],
 "metadata": {
  "kernelspec": {
   "display_name": "Python 3 (ipykernel)",
   "language": "python",
   "name": "python3"
  },
  "language_info": {
   "codemirror_mode": {
    "name": "ipython",
    "version": 3
   },
   "file_extension": ".py",
   "mimetype": "text/x-python",
   "name": "python",
   "nbconvert_exporter": "python",
   "pygments_lexer": "ipython3",
   "version": "3.11.9"
  }
 },
 "nbformat": 4,
 "nbformat_minor": 5
}
